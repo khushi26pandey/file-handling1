{
  "nbformat": 4,
  "nbformat_minor": 0,
  "metadata": {
    "colab": {
      "provenance": []
    },
    "kernelspec": {
      "name": "python3",
      "display_name": "Python 3"
    },
    "language_info": {
      "name": "python"
    }
  },
  "cells": [
    {
      "cell_type": "code",
      "execution_count": null,
      "metadata": {
        "id": "7Si-yFgl2OJo"
      },
      "outputs": [],
      "source": []
    },
    {
      "cell_type": "markdown",
      "source": [
        "1.what is the  difference between interpreted and compiled languages?\n",
        "\n",
        "Ans- Interpreted language - Code is executed line-by-line at runtime.ex-- python and Java\n",
        "\n",
        "Compiled Language- Code is translated into machine code before is  executed .ex-- C++\n",
        "\n",
        "\n",
        "2.  What is exception handling in Python?\n",
        "\n",
        "Ans- Exception handling is a process of managing errors during program executed.we can use tryblock, except block and  finally block.\n",
        "\n",
        "3.what is the purpose of the finally block in exception handling?\n",
        "\n",
        "Ans-finally block helps to  closing files regardless of whether an exception occurred.\n",
        "\n",
        "4. What is logging in Python?\n",
        "\n",
        "Ans- logging is a  process of recording  messages during program, execution for debugging and monitoring.\n",
        "\n",
        "5. What is the significance of __del__ method in Python?\n",
        "\n",
        "Ans-It is a destructor method called when an object is about to be destroyed or used for cleanup.\n",
        "\n",
        "6. What is the difference between import and from ... import in Python?\n",
        "\n",
        " Ans- import module: Imports the whole module. from....import : Imports specific functions.\n",
        "\n",
        "\n",
        "7. How can you handle multiple exceptions in Python?\n",
        "\n",
        "  Ans- we can use  multiple except blocks. Ex- except (TypeError, ValueError, zero division error , filenotfound) as e:\n",
        "    \n",
        "\n",
        "8.What is the purpose of the with statement when handling files in Python?\n",
        "\n",
        " Ans- with statement ensure that  the file is properly closed automatically, even if errors occur.\n",
        "\n",
        "9. What is the difference between multithreading and multiprocessing?\n",
        "\n",
        "  Ans- Multithreading: Multiple threads share the same memory space.\n",
        "\n",
        "  Multiprocessing: Separate processes with independent memory good for CPU-intensive tasks.\n",
        "\n",
        "\n",
        "10. What is the advantages of using  logging in Python?\n",
        "\n",
        "Ans- Helps debug issues,Records events for later review,Can save errors to files for monitoring.\n",
        "\n",
        "\n",
        "11. What is Memory management in Python?\n",
        "\n",
        "Ans-Memory management meansAutomatic allocation and deallocation of memory, handled by Python.\n",
        "\n",
        "12. What are the basic steps involved  in exception handling in Python?\n",
        "\n",
        " Ans- try: /n except exception as e: /n print(\" \")/n finally()\n",
        "\n",
        "13. Why is  memory management important in Python?\n",
        "\n",
        "Ans- Prevents memory leaks and optimizes performance.\n",
        "\n",
        "14.  What is the Role of try and except in exception handling?\n",
        "\n",
        " ans - try: Code that might cause an error. except: Code that runs if an error occurs.\n",
        "\n",
        "\n",
        "15. How does Python’s garbage collection system work?\n",
        "\n",
        "Ans- Uses reference counting and cyclic garbage collector to remove unused objects.\n",
        "\n",
        "16.  What is the Purpose of else block in exception handling?\n",
        "\n",
        " Ans- Else block allows to  Run code only if no exceptions occur in the try block.\n",
        "\n",
        "17. What are the Common logging levels in Python?\n",
        "\n",
        " Ans- DEBUG, INFO, WARNING, ERROR, CRITICAL.\n",
        "\n",
        "18.  What is the difference between os.fork() and multiprocessing in Python?\n",
        "\n",
        "Ans- os.fork(): Creates a child process\n",
        "\n",
        "multiprocessing: Works cross-platform, more flexible.\n",
        "\n",
        "\n",
        "19.  What is the I mportance of closing a file in Python?\n",
        "\n",
        "Ans-Releases system resources and ensures data is written.\n",
        "\n",
        "20.  what is the Difference between file.read() and file.readline() in Python?\n",
        "\n",
        " Ans- read(): Reads the entire file or a given number of bytes. readline(): Reads one line at a time.\n",
        "\n",
        "\n",
        "21.What is the  Logging module in Python used for?\n",
        "\n",
        "Ans- For tracking events, debugging, and saving logs to files or console.\n",
        "\n",
        "22.What is the os module in Python used for in file handling?\n",
        "\n",
        "Ans- it is used for operating system .\n",
        "\n",
        "23.  What are the Challenges associated with memory management in Python?\n",
        "\n",
        "Ans- Memory leaks, fragmentation, and keeping track of references.\n",
        "\n",
        "24.  How do you raise an exception manually in Python?\n",
        "\n",
        "Use raise ExceptionType(\"msg\").\n",
        "\n",
        "25. Why it is important to use multithreading in certain applications?\n",
        "\n",
        " Ans- Increases responsiveness, handles I/O tasks efficiently without blocking the main program."
      ],
      "metadata": {
        "id": "lju79uun2O-k"
      }
    },
    {
      "cell_type": "code",
      "source": [
        "#Q1-How can you open a file for writing in Python and write a string to it?"
      ],
      "metadata": {
        "id": "0p_gg6mXALrG"
      },
      "execution_count": null,
      "outputs": []
    },
    {
      "cell_type": "code",
      "source": [
        "with open(\"file.txt\",'w') as a:\n",
        "  a.write(\"hello this is a message\")\n",
        "  print(\"file written \")"
      ],
      "metadata": {
        "colab": {
          "base_uri": "https://localhost:8080/"
        },
        "id": "SM78eOd0ANDb",
        "outputId": "8349ceb1-e91b-4661-8b05-04b7f39f8bfc"
      },
      "execution_count": 1,
      "outputs": [
        {
          "output_type": "stream",
          "name": "stdout",
          "text": [
            "file written \n"
          ]
        }
      ]
    },
    {
      "cell_type": "code",
      "source": [
        "#Q2-Write a Python program to read the contents of a file and print each line.\n"
      ],
      "metadata": {
        "id": "bKsUaHr8A46g"
      },
      "execution_count": null,
      "outputs": []
    },
    {
      "cell_type": "code",
      "source": [
        "with open (\"file.txt\",\"r\") as b:\n",
        "  for line in b:\n",
        "    print(line.strip())"
      ],
      "metadata": {
        "colab": {
          "base_uri": "https://localhost:8080/"
        },
        "id": "T5GtbHgzA5Fy",
        "outputId": "bb3949e9-7743-47e1-c874-674f048254c7"
      },
      "execution_count": 2,
      "outputs": [
        {
          "output_type": "stream",
          "name": "stdout",
          "text": [
            "hello this is a message\n"
          ]
        }
      ]
    },
    {
      "cell_type": "code",
      "source": [
        "#Q3-How would you handle a case where the file doesn't exist while trying to open it for reading?"
      ],
      "metadata": {
        "id": "hKUuCYZHBSLh"
      },
      "execution_count": null,
      "outputs": []
    },
    {
      "cell_type": "code",
      "source": [
        "try:\n",
        "  with open (\"file1.txt\",\"r\") as c:\n",
        "     print(c.read())\n",
        "except FileNotFoundError:\n",
        "     print(\"this file is not exist \")\n"
      ],
      "metadata": {
        "colab": {
          "base_uri": "https://localhost:8080/"
        },
        "id": "8Fcck64BBSzj",
        "outputId": "46ae3bba-d2ec-4fac-94af-9838c94a94eb"
      },
      "execution_count": 5,
      "outputs": [
        {
          "output_type": "stream",
          "name": "stdout",
          "text": [
            "this file is not exist \n"
          ]
        }
      ]
    },
    {
      "cell_type": "code",
      "source": [
        "#Q4- Write a Python script that reads from one file and writes its content to another file."
      ],
      "metadata": {
        "id": "R3iPNyF0DDAB"
      },
      "execution_count": null,
      "outputs": []
    },
    {
      "cell_type": "code",
      "source": [
        "with open (\"file.txt\",\"r\") as e, open (\"file2.txt\",\"w\") as f:\n",
        "  f.write(e.read())\n",
        "\n",
        "print(\"content transfered\")"
      ],
      "metadata": {
        "colab": {
          "base_uri": "https://localhost:8080/"
        },
        "id": "47JjKCbYDDNB",
        "outputId": "c82a8e4b-9b90-4dfb-bb52-b815ddb6e62f"
      },
      "execution_count": 6,
      "outputs": [
        {
          "output_type": "stream",
          "name": "stdout",
          "text": [
            "content transfered\n"
          ]
        }
      ]
    },
    {
      "cell_type": "code",
      "source": [
        "#Q5-How would you catch and handle division by zero error in Python?"
      ],
      "metadata": {
        "id": "26aiJn0aBaJa"
      },
      "execution_count": null,
      "outputs": []
    },
    {
      "cell_type": "code",
      "source": [
        "try:\n",
        "  n=25/0\n",
        "except ZeroDivisionError:\n",
        "  print(\"following number cannot be divided by zero\")\n"
      ],
      "metadata": {
        "colab": {
          "base_uri": "https://localhost:8080/"
        },
        "id": "VB-BzBo0ER7I",
        "outputId": "e06af5e4-a46c-4d8e-b848-6f91ca547556"
      },
      "execution_count": 8,
      "outputs": [
        {
          "output_type": "stream",
          "name": "stdout",
          "text": [
            "following number cannot be divided by zero\n"
          ]
        }
      ]
    },
    {
      "cell_type": "code",
      "source": [
        "#Q6- Write a Python program that logs an error message to a log file when a division by zero exception occurs"
      ],
      "metadata": {
        "id": "7AtCMyKmEtQC"
      },
      "execution_count": null,
      "outputs": []
    },
    {
      "cell_type": "code",
      "source": [
        "import logging\n",
        "\n",
        "logging.basicConfig( filename=\"test.log\",level=logging.ERROR)\n",
        " try:\n",
        "  result= 10/0\n",
        "except ZeroDivisionError as e:\n",
        "  logging.error(f\"division by zero not possible {e}\")\n",
        "  print(\"error \")\n",
        "\n"
      ],
      "metadata": {
        "colab": {
          "base_uri": "https://localhost:8080/",
          "height": 106
        },
        "id": "PGcTb3aQF1PV",
        "outputId": "cf0ec2a1-cefb-458c-8864-d67f9059f6c8"
      },
      "execution_count": 29,
      "outputs": [
        {
          "output_type": "error",
          "ename": "IndentationError",
          "evalue": "unexpected indent (ipython-input-2734712407.py, line 4)",
          "traceback": [
            "\u001b[0;36m  File \u001b[0;32m\"/tmp/ipython-input-2734712407.py\"\u001b[0;36m, line \u001b[0;32m4\u001b[0m\n\u001b[0;31m    try:\u001b[0m\n\u001b[0m    ^\u001b[0m\n\u001b[0;31mIndentationError\u001b[0m\u001b[0;31m:\u001b[0m unexpected indent\n"
          ]
        }
      ]
    },
    {
      "cell_type": "code",
      "source": [
        "#Q7  Write a Python program that logs an error message to a log file when a division by zero exception occurs."
      ],
      "metadata": {
        "id": "hLvwUWGYRJKI"
      },
      "execution_count": null,
      "outputs": []
    },
    {
      "cell_type": "code",
      "source": [
        "import logging\n",
        "\n",
        "logging.basicConfig( filename=\"test.log\",level=logging.DEBUG)\n",
        "\n",
        "logging.info(\"this is an info message\")\n",
        "logging.warning(\"this is warning message\")\n",
        "logging.error(\"this is error message\")\n",
        "logging.shutdown()\n"
      ],
      "metadata": {
        "colab": {
          "base_uri": "https://localhost:8080/"
        },
        "id": "xmfPU2jRF1dJ",
        "outputId": "1c2314b8-7179-4c63-b939-d35046c4b3d0"
      },
      "execution_count": 9,
      "outputs": [
        {
          "output_type": "stream",
          "name": "stderr",
          "text": [
            "WARNING:root:this is warning message\n",
            "ERROR:root:this is error message\n"
          ]
        }
      ]
    },
    {
      "cell_type": "code",
      "source": [
        "#Q8- Write a program to handle a file opening error using exception handling."
      ],
      "metadata": {
        "id": "CiZ0cfLTH4tJ"
      },
      "execution_count": null,
      "outputs": []
    },
    {
      "cell_type": "code",
      "source": [
        "try:\n",
        "  with open (\"lost.txt\",\"r\") as l:\n",
        "    print(l.read())\n",
        "except FileNotFoundError:\n",
        "  print(\"there is not such file made:\")\n"
      ],
      "metadata": {
        "colab": {
          "base_uri": "https://localhost:8080/"
        },
        "id": "Ws4351qmH48v",
        "outputId": "da671adc-3a9c-4568-b23c-57a4f4ed050d"
      },
      "execution_count": 12,
      "outputs": [
        {
          "output_type": "stream",
          "name": "stdout",
          "text": [
            "there is not such file made:\n"
          ]
        }
      ]
    },
    {
      "cell_type": "code",
      "source": [
        "#Q9-How can you read a file line by line and store its content in a list in Python?"
      ],
      "metadata": {
        "id": "mACohX6qIU3u"
      },
      "execution_count": null,
      "outputs": []
    },
    {
      "cell_type": "code",
      "source": [
        "with open (\"file.txt\",\"r\") as f:\n",
        "lines= [line.strip() for lines in f]\n",
        "print(lines)"
      ],
      "metadata": {
        "id": "vOWgo7HWJhAA"
      },
      "execution_count": null,
      "outputs": []
    },
    {
      "cell_type": "code",
      "source": [
        "#Q10- How can you append data to an existing file in Python?"
      ],
      "metadata": {
        "id": "s5HFC5cYJiH9"
      },
      "execution_count": null,
      "outputs": []
    },
    {
      "cell_type": "code",
      "source": [
        "with open (\"file.txt\",\"a\") as f:\n",
        "  f.write(\"\\nAppended line \")\n",
        "  print(\"it is appended\")"
      ],
      "metadata": {
        "colab": {
          "base_uri": "https://localhost:8080/"
        },
        "id": "H3m4gmtUJiUK",
        "outputId": "e08c4f88-ca05-4574-e23c-18f3fe5d6f97"
      },
      "execution_count": 17,
      "outputs": [
        {
          "output_type": "stream",
          "name": "stdout",
          "text": [
            "it is appended\n"
          ]
        }
      ]
    },
    {
      "cell_type": "code",
      "source": [
        "#Q11-Write a Python program that uses a try-except block to handle an error when attempting to access a dictionary key that doesn't exist.\n"
      ],
      "metadata": {
        "id": "jzvkCDgwJ8go"
      },
      "execution_count": 19,
      "outputs": []
    },
    {
      "cell_type": "code",
      "source": [
        "d={\"name\":\"khushi\",\"course\":\"da\"}\n",
        "try:\n",
        "  print(d[\"age\"])\n",
        "except KeyError as e:\n",
        "  print(\"not such key available in d\",e)\n",
        "\n"
      ],
      "metadata": {
        "colab": {
          "base_uri": "https://localhost:8080/"
        },
        "id": "T5iJ9JvBJ8tP",
        "outputId": "53b905d7-70ce-443c-c1d5-e7eb27beb107"
      },
      "execution_count": 18,
      "outputs": [
        {
          "output_type": "stream",
          "name": "stdout",
          "text": [
            "not such key available in d 'age'\n"
          ]
        }
      ]
    },
    {
      "cell_type": "code",
      "source": [
        "#Q12- Write a program that demonstrates using multiple except blocks to handle different types of exceptions"
      ],
      "metadata": {
        "id": "iZUpuQBVKewU"
      },
      "execution_count": null,
      "outputs": []
    },
    {
      "cell_type": "code",
      "source": [
        "try:\n",
        "  n=int(\"khushi\")\n",
        "except ValueError:\n",
        "   print(\"there is value error\")\n",
        "except ZeroDivisionError :\n",
        "  print(\"there is zero division error\")\n",
        "\n"
      ],
      "metadata": {
        "colab": {
          "base_uri": "https://localhost:8080/"
        },
        "id": "BNwYGU2iKe99",
        "outputId": "a19bb363-10d1-460b-df5f-02c3a515ab16"
      },
      "execution_count": 20,
      "outputs": [
        {
          "output_type": "stream",
          "name": "stdout",
          "text": [
            "there is value error\n"
          ]
        }
      ]
    },
    {
      "cell_type": "code",
      "source": [
        "#Q13-How would you check if a file exists before attempting to read it in Python"
      ],
      "metadata": {
        "id": "_IWeHIIuLSkp"
      },
      "execution_count": null,
      "outputs": []
    },
    {
      "cell_type": "code",
      "source": [
        "import os\n",
        "\n",
        "if os.path.exists(\"file.txt\"):\n",
        "  print(\"file exists\")\n",
        "else:\n",
        "  print(\"there is no such file\")"
      ],
      "metadata": {
        "colab": {
          "base_uri": "https://localhost:8080/"
        },
        "id": "7OXo0hckLSwV",
        "outputId": "9a43f0c8-c987-4d96-dab2-62b9232e361b"
      },
      "execution_count": 21,
      "outputs": [
        {
          "output_type": "stream",
          "name": "stdout",
          "text": [
            "file exists\n"
          ]
        }
      ]
    },
    {
      "cell_type": "code",
      "source": [
        "#Q14-Write a program that uses the logging module to log both informational and error messages"
      ],
      "metadata": {
        "id": "vrtSwQT4LvdT"
      },
      "execution_count": null,
      "outputs": []
    },
    {
      "cell_type": "code",
      "source": [
        "logging.basicConfig( filename=\"test.log\",level=logging.DEBUG)\n",
        "\n",
        "logging.info(\"this is an info message\")\n",
        "\n",
        "logging.error(\"this is error message\")\n",
        "\n",
        "logging.shutdown()"
      ],
      "metadata": {
        "colab": {
          "base_uri": "https://localhost:8080/"
        },
        "id": "xBrn8qEGLvj0",
        "outputId": "7b21564b-43f9-429c-fc7d-1ecc0ffc38ff"
      },
      "execution_count": 22,
      "outputs": [
        {
          "output_type": "stream",
          "name": "stderr",
          "text": [
            "ERROR:root:this is error message\n"
          ]
        }
      ]
    },
    {
      "cell_type": "code",
      "source": [
        "#Q15-F Write a Python program that prints the content of a file and handles the case when the file is empty."
      ],
      "metadata": {
        "id": "xqGRUecUMHbt"
      },
      "execution_count": null,
      "outputs": []
    },
    {
      "cell_type": "code",
      "source": [
        "with open (\"empty.txt\",\"w\") as f:\n",
        "  pass\n",
        "with open (\"empty.txt\",\"r\") as f:\n",
        "  con = f.read()\n",
        "  if not con:\n",
        "    print(\"file is empty\")"
      ],
      "metadata": {
        "colab": {
          "base_uri": "https://localhost:8080/"
        },
        "id": "3d8R8MHRMHoy",
        "outputId": "bad0373d-513c-4007-e8aa-30e9e59b4ca5"
      },
      "execution_count": 23,
      "outputs": [
        {
          "output_type": "stream",
          "name": "stdout",
          "text": [
            "file is empty\n"
          ]
        }
      ]
    },
    {
      "cell_type": "code",
      "source": [
        "#Q16 Demonstrate how to use memory profiling to check the memory usage of a small program"
      ],
      "metadata": {
        "id": "m5p_CErtMyLW"
      },
      "execution_count": null,
      "outputs": []
    },
    {
      "cell_type": "code",
      "source": [
        "#Q17-  Write a Python program to create and write a list of numbers to a file, one number per lineF"
      ],
      "metadata": {
        "id": "YNRl-48KMyXd"
      },
      "execution_count": null,
      "outputs": []
    },
    {
      "cell_type": "code",
      "source": [
        "num= [1,2,3,4]\n",
        "\n",
        "with open (\"number.txt\", \"w\") as f:\n",
        "  for n in num:\n",
        "    f.write(str(n) + \"\\n\")\n",
        "\n",
        "print(\" list number written to file\")"
      ],
      "metadata": {
        "colab": {
          "base_uri": "https://localhost:8080/"
        },
        "id": "tqxbN_cNM6ja",
        "outputId": "7a1f3336-bedd-4c62-8845-670dcc000f7b"
      },
      "execution_count": 24,
      "outputs": [
        {
          "output_type": "stream",
          "name": "stdout",
          "text": [
            " list number written to file\n"
          ]
        }
      ]
    },
    {
      "cell_type": "code",
      "source": [
        "#Q18- How would you implement a basic logging setup that logs to a file with rotation after 1MB?"
      ],
      "metadata": {
        "id": "AbBEC81DNpq2"
      },
      "execution_count": null,
      "outputs": []
    },
    {
      "cell_type": "code",
      "source": [
        "#Q19Write a program that handles both IndexError and KeyError using a try-except block?"
      ],
      "metadata": {
        "id": "kuww-iLVNp2z"
      },
      "execution_count": null,
      "outputs": []
    },
    {
      "cell_type": "code",
      "source": [
        "d={\"name\":\"khushi\"}\n",
        "l=[1,2,3]\n",
        "\n",
        "try:\n",
        "  print(l[4])\n",
        "  print(d[\"course\"])\n",
        "\n",
        "except IndexError:\n",
        "  print(\"there is not such index\")\n",
        "\n",
        "except KeyError:\n",
        "  print(\"not such key found\")\n",
        ""
      ],
      "metadata": {
        "colab": {
          "base_uri": "https://localhost:8080/"
        },
        "id": "uVeSM6QvNzan",
        "outputId": "a951d982-773b-4060-baff-4d617337add2"
      },
      "execution_count": 25,
      "outputs": [
        {
          "output_type": "stream",
          "name": "stdout",
          "text": [
            "there is not such index\n"
          ]
        }
      ]
    },
    {
      "cell_type": "code",
      "source": [
        "#Q20- How would you open a file and read its contents using a context manager in Python?"
      ],
      "metadata": {
        "id": "-fhpCSoTOmi1"
      },
      "execution_count": null,
      "outputs": []
    },
    {
      "cell_type": "code",
      "source": [
        "with open(\"file.txt\",\"r\") as f:\n",
        "  print(f.read())"
      ],
      "metadata": {
        "colab": {
          "base_uri": "https://localhost:8080/"
        },
        "id": "ClSJyuGSOmvV",
        "outputId": "46ced6b0-be9a-4102-aa5c-9b2cb6e85c82"
      },
      "execution_count": 26,
      "outputs": [
        {
          "output_type": "stream",
          "name": "stdout",
          "text": [
            "hello this is a message\n",
            "Appended line \n"
          ]
        }
      ]
    },
    {
      "cell_type": "code",
      "source": [
        "#Q21- Write a Python program that reads a file and prints the number of occurrences of a specific word"
      ],
      "metadata": {
        "id": "gaHwj5BrO60J"
      },
      "execution_count": null,
      "outputs": []
    },
    {
      "cell_type": "code",
      "source": [
        "#Q22- How can you check if a file is empty before attempting to read its contents?"
      ],
      "metadata": {
        "id": "AGbXpIeIO6_o"
      },
      "execution_count": null,
      "outputs": []
    },
    {
      "cell_type": "code",
      "source": [
        "import os\n",
        "if os.path.getsize(\"empty.txt\") == 0:\n",
        "  print(\"file is empty\")\n",
        "else:\n",
        "  print(\"have content\")\n"
      ],
      "metadata": {
        "colab": {
          "base_uri": "https://localhost:8080/"
        },
        "id": "q3nABMFoPLiB",
        "outputId": "904ee584-0656-460e-92e0-429563164ab5"
      },
      "execution_count": 27,
      "outputs": [
        {
          "output_type": "stream",
          "name": "stdout",
          "text": [
            "file is empty\n"
          ]
        }
      ]
    },
    {
      "cell_type": "code",
      "source": [
        "#23-Write a Python program that writes to a log file when an error occurs during file handling."
      ],
      "metadata": {
        "id": "4f1MBtA9PjtD"
      },
      "execution_count": null,
      "outputs": []
    },
    {
      "cell_type": "code",
      "source": [
        "import logging\n",
        "\n",
        "logging.basicConfig(filename= \"file.log\", level = logging.ERROR)\n",
        "\n",
        "try:\n",
        "  with open (\"missing.txt\",\"r\") as f:\n",
        "    print(f.read())\n",
        "\n",
        "except FileNotFoundError as e :\n",
        "  logging.error(f\"file handling error: {e}\")\n",
        "\n",
        "  print(\"error loggged to file\")\n"
      ],
      "metadata": {
        "colab": {
          "base_uri": "https://localhost:8080/"
        },
        "id": "uioxkWvyPj6b",
        "outputId": "52ab742d-a3f6-4178-e645-9ee5992880cc"
      },
      "execution_count": 28,
      "outputs": [
        {
          "output_type": "stream",
          "name": "stderr",
          "text": [
            "ERROR:root:file handling error: [Errno 2] No such file or directory: 'missing.txt'\n"
          ]
        },
        {
          "output_type": "stream",
          "name": "stdout",
          "text": [
            "error loggged to file\n"
          ]
        }
      ]
    }
  ]
}